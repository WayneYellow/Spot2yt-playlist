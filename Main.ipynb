{
 "cells": [
  {
   "cell_type": "code",
   "execution_count": 6,
   "metadata": {},
   "outputs": [],
   "source": [
    "import spotipy\n",
    "from spotipy.oauth2 import SpotifyClientCredentials\n",
    "from googleapiclient.discovery import build\n",
    "from youtubesearchpython import VideosSearch\n",
    "import re\n",
    "from API import *"
   ]
  },
  {
   "cell_type": "code",
   "execution_count": 7,
   "metadata": {},
   "outputs": [],
   "source": [
    "# Setup\n",
    "sp = spotipy.Spotify(client_credentials_manager=SpotifyClientCredentials(SPOTIPY_CLIENT_ID, SPOTIPY_CLIENT_SECRET))\n",
    "youtube = build('youtube', 'v3', developerKey=YOUTUBE_API_KEY)"
   ]
  },
  {
   "cell_type": "code",
   "execution_count": 8,
   "metadata": {},
   "outputs": [],
   "source": [
    "# Functions\n",
    "def extract_spotify_playlist_id(url):\n",
    "    pattern = r'playlist\\/(\\w+)'\n",
    "    match = re.search(pattern, url)\n",
    "    if match:\n",
    "        playlist_id = match.group(1)\n",
    "        return playlist_id\n",
    "    else:\n",
    "        return None\n",
    "\n",
    "def gen_query(track, mode):\n",
    "  if mode == 0: # MV\n",
    "    return f\"{track['track']['name']} - {track['track']['artists'][0]['name']} - Official Music Video\"\n",
    "  if mode == 1: # Lyrics\n",
    "    return f\"{track['track']['name']} - {track['track']['artists'][0]['name']} - Lyrics Video\"\n",
    "\n",
    "def yt_search(playlist_id, num, mode):\n",
    "  results = sp.playlist_tracks(playlist_id) # Input\n",
    "  tracks = results['items'] \n",
    "  cnt = 1\n",
    "  for track in tracks:\n",
    "    query = gen_query(track, mode)\n",
    "    videosSearch = VideosSearch(query, limit = num)\n",
    "    result = videosSearch.result()\n",
    "    videoid = result[\"result\"][0][\"id\"]\n",
    "    print(str(cnt) + ':')\n",
    "    for i in range(num):\n",
    "      print(result['result'][i]['title'])\n",
    "    cnt += 1\n"
   ]
  },
  {
   "cell_type": "code",
   "execution_count": 9,
   "metadata": {},
   "outputs": [
    {
     "name": "stdout",
     "output_type": "stream",
     "text": [
      "Extracted Spotify Playlist ID: 2yWHrmxIbJLkQHf47eMnHs\n"
     ]
    }
   ],
   "source": [
    "# User input\n",
    "spotify_url = \"https://open.spotify.com/playlist/2yWHrmxIbJLkQHf47eMnHs\"\n",
    "playlist_id = extract_spotify_playlist_id(spotify_url)\n",
    "\n",
    "if playlist_id:\n",
    "    print(f\"Extracted Spotify Playlist ID: {playlist_id}\")\n",
    "else:\n",
    "    print(\"Invalid Spotify Playlist URL\")\n"
   ]
  },
  {
   "cell_type": "code",
   "execution_count": 10,
   "metadata": {},
   "outputs": [
    {
     "name": "stdout",
     "output_type": "stream",
     "text": [
      "1:\n",
      "9m88 - Hello Bye Bye (Official MV)\n",
      "新世代靈魂歌姬 9m88唱\"Hello Bye Bye\"\n",
      "9m88 - Hello Bye Bye#玫瑰唇印渲染夜的濃只有woman才懂  動態歌詞 Lyric Video\n",
      "2:\n",
      "Intro - She Is\n",
      "9m88 - intro + 01 平庸之上 Beyond Mediocrity  | 2019 秋OUT [LIVE] 4K\n",
      "9m88 -〈足久無見 Tsiok Kú Bô Kìnn〉Official Music Video\n",
      "3:\n",
      "9m88 - 最高品質靜悄悄 Airplane Mode ft. Leo王 (Official MV)\n",
      "9m88 - 最高品質靜悄悄#蹲最低的跳最高 | 動態歌詞 Lyric Video\n",
      "【顏社】Leo王 - 陪妳過假日 feat. 9m88 (Official Music Video)\n",
      "4:\n",
      "9m88 - 愛情雨 Love Rain (Official MV)\n",
      "9m88 - 愛情雨 LyricsVideo\n",
      "9m88 - 愛情雨 Love Rain  | 秋OUT 2019 [LIVE]  4K\n"
     ]
    }
   ],
   "source": [
    "yt_search(playlist_id, 3, 0)"
   ]
  }
 ],
 "metadata": {
  "kernelspec": {
   "display_name": "base",
   "language": "python",
   "name": "python3"
  },
  "language_info": {
   "codemirror_mode": {
    "name": "ipython",
    "version": 3
   },
   "file_extension": ".py",
   "mimetype": "text/x-python",
   "name": "python",
   "nbconvert_exporter": "python",
   "pygments_lexer": "ipython3",
   "version": "3.11.5"
  }
 },
 "nbformat": 4,
 "nbformat_minor": 2
}
